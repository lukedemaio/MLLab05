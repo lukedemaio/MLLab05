{
 "cells": [
  {
   "cell_type": "markdown",
   "id": "5416fe5e",
   "metadata": {},
   "source": [
    "# Lab 5: Wide and Deep Networks"
   ]
  },
  {
   "cell_type": "markdown",
   "id": "b67e9135",
   "metadata": {},
   "source": [
    "## Preparation"
   ]
  },
  {
   "cell_type": "markdown",
   "id": "e2aa7c59",
   "metadata": {},
   "source": [
    "[1 points] Define and prepare your class variables. Use proper variable representations (int, float, one-hot, etc.). Use pre-processing methods (as needed) for dimensionality reduction, scaling, etc. Remove variables that are not needed/useful for the analysis. Describe the final dataset that is used for classification/regression (include a description of any newly formed variables you created). "
   ]
  },
  {
   "cell_type": "code",
   "execution_count": 1,
   "id": "fc5e3bb0",
   "metadata": {},
   "outputs": [
    {
     "data": {
      "text/html": [
       "<div>\n",
       "<style scoped>\n",
       "    .dataframe tbody tr th:only-of-type {\n",
       "        vertical-align: middle;\n",
       "    }\n",
       "\n",
       "    .dataframe tbody tr th {\n",
       "        vertical-align: top;\n",
       "    }\n",
       "\n",
       "    .dataframe thead th {\n",
       "        text-align: right;\n",
       "    }\n",
       "</style>\n",
       "<table border=\"1\" class=\"dataframe\">\n",
       "  <thead>\n",
       "    <tr style=\"text-align: right;\">\n",
       "      <th></th>\n",
       "      <th>carat</th>\n",
       "      <th>cut</th>\n",
       "      <th>color</th>\n",
       "      <th>clarity</th>\n",
       "      <th>depth</th>\n",
       "      <th>table</th>\n",
       "      <th>price</th>\n",
       "      <th>x</th>\n",
       "      <th>y</th>\n",
       "      <th>z</th>\n",
       "    </tr>\n",
       "  </thead>\n",
       "  <tbody>\n",
       "    <tr>\n",
       "      <th>0</th>\n",
       "      <td>0.23</td>\n",
       "      <td>Ideal</td>\n",
       "      <td>E</td>\n",
       "      <td>SI2</td>\n",
       "      <td>61.5</td>\n",
       "      <td>55.0</td>\n",
       "      <td>326</td>\n",
       "      <td>3.95</td>\n",
       "      <td>3.98</td>\n",
       "      <td>2.43</td>\n",
       "    </tr>\n",
       "    <tr>\n",
       "      <th>1</th>\n",
       "      <td>0.21</td>\n",
       "      <td>Premium</td>\n",
       "      <td>E</td>\n",
       "      <td>SI1</td>\n",
       "      <td>59.8</td>\n",
       "      <td>61.0</td>\n",
       "      <td>326</td>\n",
       "      <td>3.89</td>\n",
       "      <td>3.84</td>\n",
       "      <td>2.31</td>\n",
       "    </tr>\n",
       "    <tr>\n",
       "      <th>2</th>\n",
       "      <td>0.23</td>\n",
       "      <td>Good</td>\n",
       "      <td>E</td>\n",
       "      <td>VS1</td>\n",
       "      <td>56.9</td>\n",
       "      <td>65.0</td>\n",
       "      <td>327</td>\n",
       "      <td>4.05</td>\n",
       "      <td>4.07</td>\n",
       "      <td>2.31</td>\n",
       "    </tr>\n",
       "    <tr>\n",
       "      <th>3</th>\n",
       "      <td>0.29</td>\n",
       "      <td>Premium</td>\n",
       "      <td>I</td>\n",
       "      <td>VS2</td>\n",
       "      <td>62.4</td>\n",
       "      <td>58.0</td>\n",
       "      <td>334</td>\n",
       "      <td>4.20</td>\n",
       "      <td>4.23</td>\n",
       "      <td>2.63</td>\n",
       "    </tr>\n",
       "    <tr>\n",
       "      <th>4</th>\n",
       "      <td>0.31</td>\n",
       "      <td>Good</td>\n",
       "      <td>J</td>\n",
       "      <td>SI2</td>\n",
       "      <td>63.3</td>\n",
       "      <td>58.0</td>\n",
       "      <td>335</td>\n",
       "      <td>4.34</td>\n",
       "      <td>4.35</td>\n",
       "      <td>2.75</td>\n",
       "    </tr>\n",
       "  </tbody>\n",
       "</table>\n",
       "</div>"
      ],
      "text/plain": [
       "   carat      cut color clarity  depth  table  price     x     y     z\n",
       "0   0.23    Ideal     E     SI2   61.5   55.0    326  3.95  3.98  2.43\n",
       "1   0.21  Premium     E     SI1   59.8   61.0    326  3.89  3.84  2.31\n",
       "2   0.23     Good     E     VS1   56.9   65.0    327  4.05  4.07  2.31\n",
       "3   0.29  Premium     I     VS2   62.4   58.0    334  4.20  4.23  2.63\n",
       "4   0.31     Good     J     SI2   63.3   58.0    335  4.34  4.35  2.75"
      ]
     },
     "execution_count": 1,
     "metadata": {},
     "output_type": "execute_result"
    }
   ],
   "source": [
    "import pandas as pd\n",
    "\n",
    "df = pd.read_csv('Diamond Prices2022.csv')\n",
    "df.drop(df.columns[df.columns.str.contains('unnamed',case = False)],axis = 1, inplace = True)\n",
    "df.head()"
   ]
  },
  {
   "cell_type": "code",
   "execution_count": 2,
   "id": "41fc71ec",
   "metadata": {},
   "outputs": [
    {
     "data": {
      "text/plain": [
       "count    43154.000000\n",
       "mean      3938.040159\n",
       "std       4003.028218\n",
       "min        326.000000\n",
       "25%        945.000000\n",
       "50%       2399.000000\n",
       "75%       5331.000000\n",
       "max      18823.000000\n",
       "Name: price, dtype: float64"
      ]
     },
     "execution_count": 2,
     "metadata": {},
     "output_type": "execute_result"
    }
   ],
   "source": [
    "import sklearn\n",
    "from sklearn.model_selection import train_test_split\n",
    "\n",
    "df_target = df['price']\n",
    "df_data = df.drop(['price'], axis=1)\n",
    "\n",
    "X = df_data.copy()\n",
    "y = df_target.copy()\n",
    "\n",
    "X_train, X_test, y_train, y_test = sklearn.model_selection.train_test_split(X,y, test_size=0.2)\n",
    "y_train.describe()\n",
    "\n"
   ]
  },
  {
   "cell_type": "code",
   "execution_count": 3,
   "id": "0059e144",
   "metadata": {},
   "outputs": [
    {
     "data": {
      "text/plain": [
       "under-budget    38948\n",
       "over-budget      4206\n",
       "Name: price, dtype: int64"
      ]
     },
     "execution_count": 3,
     "metadata": {},
     "output_type": "execute_result"
    }
   ],
   "source": [
    "from sklearn.preprocessing import LabelEncoder\n",
    "from sklearn.preprocessing import StandardScaler\n",
    "\n",
    "y_train = pd.cut(y_train, [0,10000,1e6],labels = ['under-budget', 'over-budget'], precision=0)\n",
    "y_test = pd.cut(y_test, [0,10000,1e6],labels = ['under-budget', 'over-budget'], precision=0)\n",
    "\n",
    "y_train.value_counts()\n"
   ]
  },
  {
   "cell_type": "code",
   "execution_count": 4,
   "id": "66db4a2e",
   "metadata": {},
   "outputs": [
    {
     "data": {
      "image/png": "[encoded data removed]",
      "text/plain": [
       "<Figure size 432x288 with 1 Axes>"
      ]
     },
     "metadata": {
      "needs_background": "light"
     },
     "output_type": "display_data"
    }
   ],
   "source": [
    "import matplotlib.pyplot as plt\n",
    "count = y_train.value_counts()\n",
    "count.plot.bar()\n",
    "plt.title('Y_Train Breakdown')\n",
    "plt.ylabel('Number of Diamonds')\n",
    "plt.xlabel('Budget Class')\n",
    "plt.show()"
   ]
  },
  {
   "cell_type": "code",
   "execution_count": 5,
   "id": "d4a69c49",
   "metadata": {},
   "outputs": [
    {
     "data": {
      "image/png": "[encoded data removed]",
      "text/plain": [
       "<Figure size 432x288 with 1 Axes>"
      ]
     },
     "metadata": {
      "needs_background": "light"
     },
     "output_type": "display_data"
    }
   ],
   "source": [
    "y_test.value_counts()\n",
    "count = y_test.value_counts()\n",
    "count.plot.bar()\n",
    "plt.title('Y_Test Breakdown')\n",
    "plt.ylabel('Number of Diamonds')\n",
    "plt.xlabel('Budget Class')\n",
    "plt.show()"
   ]
  },
  {
   "cell_type": "code",
   "execution_count": 6,
   "id": "b10abda9",
   "metadata": {},
   "outputs": [],
   "source": [
    "numeric_headers = ['carat', 'depth', 'table', 'x', 'y', 'z']\n",
    "\n",
    "ss = StandardScaler()\n",
    "X_train[numeric_headers] = ss.fit_transform(X_train[numeric_headers].values)\n",
    "X_test[numeric_headers] = ss.transform(X_test[numeric_headers].values)"
   ]
  },
  {
   "cell_type": "code",
   "execution_count": 7,
   "id": "905a460e",
   "metadata": {},
   "outputs": [
    {
     "data": {
      "text/html": [
       "<div>\n",
       "<style scoped>\n",
       "    .dataframe tbody tr th:only-of-type {\n",
       "        vertical-align: middle;\n",
       "    }\n",
       "\n",
       "    .dataframe tbody tr th {\n",
       "        vertical-align: top;\n",
       "    }\n",
       "\n",
       "    .dataframe thead th {\n",
       "        text-align: right;\n",
       "    }\n",
       "</style>\n",
       "<table border=\"1\" class=\"dataframe\">\n",
       "  <thead>\n",
       "    <tr style=\"text-align: right;\">\n",
       "      <th></th>\n",
       "      <th>carat</th>\n",
       "      <th>cut</th>\n",
       "      <th>color</th>\n",
       "      <th>clarity</th>\n",
       "      <th>depth</th>\n",
       "      <th>table</th>\n",
       "      <th>x</th>\n",
       "      <th>y</th>\n",
       "      <th>z</th>\n",
       "    </tr>\n",
       "  </thead>\n",
       "  <tbody>\n",
       "    <tr>\n",
       "      <th>34174</th>\n",
       "      <td>-0.985893</td>\n",
       "      <td>Premium</td>\n",
       "      <td>G</td>\n",
       "      <td>VS1</td>\n",
       "      <td>0.457950</td>\n",
       "      <td>0.693559</td>\n",
       "      <td>-1.121335</td>\n",
       "      <td>-1.178610</td>\n",
       "      <td>-1.102631</td>\n",
       "    </tr>\n",
       "    <tr>\n",
       "      <th>44188</th>\n",
       "      <td>-0.606434</td>\n",
       "      <td>Very Good</td>\n",
       "      <td>D</td>\n",
       "      <td>SI1</td>\n",
       "      <td>-0.590296</td>\n",
       "      <td>0.693559</td>\n",
       "      <td>-0.533874</td>\n",
       "      <td>-0.483427</td>\n",
       "      <td>-0.570832</td>\n",
       "    </tr>\n",
       "    <tr>\n",
       "      <th>50335</th>\n",
       "      <td>-0.311299</td>\n",
       "      <td>Ideal</td>\n",
       "      <td>G</td>\n",
       "      <td>VS1</td>\n",
       "      <td>-0.799945</td>\n",
       "      <td>1.142811</td>\n",
       "      <td>-0.133333</td>\n",
       "      <td>-0.109097</td>\n",
       "      <td>-0.211508</td>\n",
       "    </tr>\n",
       "    <tr>\n",
       "      <th>35293</th>\n",
       "      <td>-1.049136</td>\n",
       "      <td>Very Good</td>\n",
       "      <td>I</td>\n",
       "      <td>VS1</td>\n",
       "      <td>0.877249</td>\n",
       "      <td>-2.001953</td>\n",
       "      <td>-1.308255</td>\n",
       "      <td>-1.267736</td>\n",
       "      <td>-1.203242</td>\n",
       "    </tr>\n",
       "    <tr>\n",
       "      <th>42615</th>\n",
       "      <td>-0.922650</td>\n",
       "      <td>Very Good</td>\n",
       "      <td>E</td>\n",
       "      <td>SI2</td>\n",
       "      <td>0.597716</td>\n",
       "      <td>-0.204945</td>\n",
       "      <td>-1.094632</td>\n",
       "      <td>-1.062746</td>\n",
       "      <td>-1.016394</td>\n",
       "    </tr>\n",
       "  </tbody>\n",
       "</table>\n",
       "</div>"
      ],
      "text/plain": [
       "          carat        cut color clarity     depth     table         x  \\\n",
       "34174 -0.985893    Premium     G     VS1  0.457950  0.693559 -1.121335   \n",
       "44188 -0.606434  Very Good     D     SI1 -0.590296  0.693559 -0.533874   \n",
       "50335 -0.311299      Ideal     G     VS1 -0.799945  1.142811 -0.133333   \n",
       "35293 -1.049136  Very Good     I     VS1  0.877249 -2.001953 -1.308255   \n",
       "42615 -0.922650  Very Good     E     SI2  0.597716 -0.204945 -1.094632   \n",
       "\n",
       "              y         z  \n",
       "34174 -1.178610 -1.102631  \n",
       "44188 -0.483427 -0.570832  \n",
       "50335 -0.109097 -0.211508  \n",
       "35293 -1.267736 -1.203242  \n",
       "42615 -1.062746 -1.016394  "
      ]
     },
     "execution_count": 7,
     "metadata": {},
     "output_type": "execute_result"
    }
   ],
   "source": [
    "X_train.head()"
   ]
  },
  {
   "cell_type": "code",
   "execution_count": 8,
   "id": "e8c6aab9",
   "metadata": {},
   "outputs": [],
   "source": [
    "categorical_headers = ['cut', 'color', 'clarity']\n",
    "\n",
    "for col in categorical_headers:\n",
    "    X_train[col] = X_train[col].str.strip()\n",
    "    X_test[col] = X_test[col].str.strip()\n",
    "    lb = LabelEncoder()\n",
    "    X_train[col+'_int'] = lb.fit_transform(X_train[col])\n",
    "    X_test[col+'_int'] = lb.transform(X_test[col])"
   ]
  },
  {
   "cell_type": "code",
   "execution_count": 9,
   "id": "0e748db4",
   "metadata": {},
   "outputs": [
    {
     "data": {
      "text/html": [
       "<div>\n",
       "<style scoped>\n",
       "    .dataframe tbody tr th:only-of-type {\n",
       "        vertical-align: middle;\n",
       "    }\n",
       "\n",
       "    .dataframe tbody tr th {\n",
       "        vertical-align: top;\n",
       "    }\n",
       "\n",
       "    .dataframe thead th {\n",
       "        text-align: right;\n",
       "    }\n",
       "</style>\n",
       "<table border=\"1\" class=\"dataframe\">\n",
       "  <thead>\n",
       "    <tr style=\"text-align: right;\">\n",
       "      <th></th>\n",
       "      <th>carat</th>\n",
       "      <th>cut</th>\n",
       "      <th>color</th>\n",
       "      <th>clarity</th>\n",
       "      <th>depth</th>\n",
       "      <th>table</th>\n",
       "      <th>x</th>\n",
       "      <th>y</th>\n",
       "      <th>z</th>\n",
       "      <th>cut_int</th>\n",
       "      <th>color_int</th>\n",
       "      <th>clarity_int</th>\n",
       "    </tr>\n",
       "  </thead>\n",
       "  <tbody>\n",
       "    <tr>\n",
       "      <th>34174</th>\n",
       "      <td>-0.985893</td>\n",
       "      <td>Premium</td>\n",
       "      <td>G</td>\n",
       "      <td>VS1</td>\n",
       "      <td>0.457950</td>\n",
       "      <td>0.693559</td>\n",
       "      <td>-1.121335</td>\n",
       "      <td>-1.178610</td>\n",
       "      <td>-1.102631</td>\n",
       "      <td>3</td>\n",
       "      <td>3</td>\n",
       "      <td>4</td>\n",
       "    </tr>\n",
       "    <tr>\n",
       "      <th>44188</th>\n",
       "      <td>-0.606434</td>\n",
       "      <td>Very Good</td>\n",
       "      <td>D</td>\n",
       "      <td>SI1</td>\n",
       "      <td>-0.590296</td>\n",
       "      <td>0.693559</td>\n",
       "      <td>-0.533874</td>\n",
       "      <td>-0.483427</td>\n",
       "      <td>-0.570832</td>\n",
       "      <td>4</td>\n",
       "      <td>0</td>\n",
       "      <td>2</td>\n",
       "    </tr>\n",
       "    <tr>\n",
       "      <th>50335</th>\n",
       "      <td>-0.311299</td>\n",
       "      <td>Ideal</td>\n",
       "      <td>G</td>\n",
       "      <td>VS1</td>\n",
       "      <td>-0.799945</td>\n",
       "      <td>1.142811</td>\n",
       "      <td>-0.133333</td>\n",
       "      <td>-0.109097</td>\n",
       "      <td>-0.211508</td>\n",
       "      <td>2</td>\n",
       "      <td>3</td>\n",
       "      <td>4</td>\n",
       "    </tr>\n",
       "    <tr>\n",
       "      <th>35293</th>\n",
       "      <td>-1.049136</td>\n",
       "      <td>Very Good</td>\n",
       "      <td>I</td>\n",
       "      <td>VS1</td>\n",
       "      <td>0.877249</td>\n",
       "      <td>-2.001953</td>\n",
       "      <td>-1.308255</td>\n",
       "      <td>-1.267736</td>\n",
       "      <td>-1.203242</td>\n",
       "      <td>4</td>\n",
       "      <td>5</td>\n",
       "      <td>4</td>\n",
       "    </tr>\n",
       "    <tr>\n",
       "      <th>42615</th>\n",
       "      <td>-0.922650</td>\n",
       "      <td>Very Good</td>\n",
       "      <td>E</td>\n",
       "      <td>SI2</td>\n",
       "      <td>0.597716</td>\n",
       "      <td>-0.204945</td>\n",
       "      <td>-1.094632</td>\n",
       "      <td>-1.062746</td>\n",
       "      <td>-1.016394</td>\n",
       "      <td>4</td>\n",
       "      <td>1</td>\n",
       "      <td>3</td>\n",
       "    </tr>\n",
       "  </tbody>\n",
       "</table>\n",
       "</div>"
      ],
      "text/plain": [
       "          carat        cut color clarity     depth     table         x  \\\n",
       "34174 -0.985893    Premium     G     VS1  0.457950  0.693559 -1.121335   \n",
       "44188 -0.606434  Very Good     D     SI1 -0.590296  0.693559 -0.533874   \n",
       "50335 -0.311299      Ideal     G     VS1 -0.799945  1.142811 -0.133333   \n",
       "35293 -1.049136  Very Good     I     VS1  0.877249 -2.001953 -1.308255   \n",
       "42615 -0.922650  Very Good     E     SI2  0.597716 -0.204945 -1.094632   \n",
       "\n",
       "              y         z  cut_int  color_int  clarity_int  \n",
       "34174 -1.178610 -1.102631        3          3            4  \n",
       "44188 -0.483427 -0.570832        4          0            2  \n",
       "50335 -0.109097 -0.211508        2          3            4  \n",
       "35293 -1.267736 -1.203242        4          5            4  \n",
       "42615 -1.062746 -1.016394        4          1            3  "
      ]
     },
     "execution_count": 9,
     "metadata": {},
     "output_type": "execute_result"
    }
   ],
   "source": [
    "X_train.head()"
   ]
  },
  {
   "cell_type": "code",
   "execution_count": 10,
   "id": "2d743375",
   "metadata": {},
   "outputs": [],
   "source": [
    "categorical_headers_ints = [x +'_int' for x in categorical_headers]"
   ]
  },
  {
   "cell_type": "code",
   "execution_count": 11,
   "id": "701b696d",
   "metadata": {},
   "outputs": [],
   "source": [
    "tmp = LabelEncoder()\n",
    "y_train = tmp.fit_transform(y_train)\n",
    "y_test = tmp.transform(y_test)"
   ]
  },
  {
   "cell_type": "markdown",
   "id": "1b93b393",
   "metadata": {},
   "source": [
    "## [1 points] Identify groups of features in your data that should be combined into cross-product features. Provide justification for why these features should be crossed (or why some features should not be crossed). "
   ]
  },
  {
   "cell_type": "markdown",
   "id": "4f401644",
   "metadata": {},
   "source": [
    "An example of a group of cross-product features would be a diamond that has ideal cut, F color, and VS2 clarity. "
   ]
  },
  {
   "cell_type": "markdown",
   "id": "b27fbca2",
   "metadata": {},
   "source": [
    "## [1 points] Choose and explain what metric(s) you will use to evaluate your algorithm’s performance. You should give a detailed argument for why this (these) metric(s) are appropriate on your data. That is, why is the metric appropriate for the task (e.g., in terms of the business case for the task). Please note: rarely is accuracy the best evaluation metric to use. Think deeply about an appropriate measure of performance."
   ]
  },
  {
   "cell_type": "markdown",
   "id": "5758fecb",
   "metadata": {},
   "source": [
    "The metric that will be used to evaluate our algorithm will be Mcnemar Test. This is an appropriate metric for comparing two different classifiers."
   ]
  },
  {
   "cell_type": "markdown",
   "id": "26df6513",
   "metadata": {},
   "source": [
    "## [1 points] Choose the method you will use for dividing your data into training and testing (i.e., are you using Stratified 10-fold cross validation? Shuffle splits? Why?). Explain why your chosen method is appropriate or use more than one method as appropriate. Argue why your cross validation method is a realistic mirroring of how an algorithm would be used in practice. "
   ]
  },
  {
   "cell_type": "markdown",
   "id": "a65bdaba",
   "metadata": {},
   "source": [
    "Becuase our dataset is over fifety thousand instances, it is appropriate to split out training and testing sets using shuffle split. "
   ]
  },
  {
   "cell_type": "markdown",
   "id": "ad5418d4",
   "metadata": {},
   "source": [
    "## Modeling"
   ]
  },
  {
   "cell_type": "markdown",
   "id": "4ebdfe79",
   "metadata": {},
   "source": [
    "[2 points] Create at least three combined wide and deep networks to classify your data using Keras. Visualize the performance of the network on the training data and validation data in the same plot versus the training iterations. Note: use the \"history\" return parameter that is part of Keras \"fit\" function to easily access this data."
   ]
  },
  {
   "cell_type": "code",
   "execution_count": 18,
   "id": "069b5ab4",
   "metadata": {},
   "outputs": [
    {
     "name": "stdout",
     "output_type": "stream",
     "text": [
      "2.9.1\n",
      "2.9.0\n"
     ]
    }
   ],
   "source": [
    "from sklearn import metrics as mt\n",
    "import tensorflow as tf\n",
    "from tensorflow import keras \n",
    "\n",
    "print(tf.__version__)\n",
    "print(keras.__version__)"
   ]
  },
  {
   "cell_type": "code",
   "execution_count": 19,
   "id": "48ea1e50",
   "metadata": {},
   "outputs": [],
   "source": [
    "from tensorflow.keras.layers import Dense, Activation, Input, Embedding, concatenate\n",
    "from tensorflow.keras.models import Model"
   ]
  },
  {
   "cell_type": "code",
   "execution_count": 20,
   "id": "654efb4f",
   "metadata": {},
   "outputs": [
    {
     "name": "stdout",
     "output_type": "stream",
     "text": [
      "cut has 5 unique values:\n",
      "['Premium' 'Very Good' 'Ideal' 'Fair' 'Good']\n",
      "color has 7 unique values:\n",
      "['G' 'D' 'I' 'E' 'F' 'J' 'H']\n",
      "clarity has 8 unique values:\n",
      "['VS1' 'SI1' 'SI2' 'VVS1' 'IF' 'VS2' 'I1' 'VVS2']\n"
     ]
    }
   ],
   "source": [
    "for col in categorical_headers:\n",
    "    vals = X_train[col].unique()\n",
    "    print(col,'has', len(vals), 'unique values:')\n",
    "    print(vals)"
   ]
  },
  {
   "cell_type": "code",
   "execution_count": 21,
   "id": "960c6db5",
   "metadata": {},
   "outputs": [
    {
     "name": "stdout",
     "output_type": "stream",
     "text": [
      "0 275\n"
     ]
    }
   ],
   "source": [
    "import numpy as np\n",
    "cols_list = ['cut','color','clarity']\n",
    "\n",
    "# 1. create crossed labels by string join operation\n",
    "X_crossed_train = X_train[cols_list].apply(lambda x: '_'.join(x), axis=1)\n",
    "X_crossed_test = X_test[cols_list].apply(lambda x: '_'.join(x), axis=1)\n",
    "\n",
    "# combine together for training\n",
    "all_vals = np.hstack((X_crossed_train.to_numpy(),  X_crossed_test.to_numpy()))\n",
    "#print(np.unique(all_vals))\n",
    "    \n",
    "# 2. encode as integers, stacking all possibilities\n",
    "enc = LabelEncoder()\n",
    "enc.fit(all_vals)\n",
    "\n",
    "encoded_vals_train = enc.transform(X_crossed_train)\n",
    "encoded_vals_test  = enc.transform(X_crossed_test)\n",
    "\n",
    "print(np.min(encoded_vals_train), np.max(encoded_vals_train))"
   ]
  },
  {
   "cell_type": "code",
   "execution_count": 22,
   "id": "7f90a7a5",
   "metadata": {},
   "outputs": [
    {
     "data": {
      "text/plain": [
       "['color_clarity', 'cut_color_clarity', 'cut_clarity']"
      ]
     },
     "execution_count": 22,
     "metadata": {},
     "output_type": "execute_result"
    }
   ],
   "source": [
    "cross_columns = [\n",
    "                 ['color','clarity'],\n",
    "                 ['cut','color','clarity'],\n",
    "                 ['cut','clarity']\n",
    "                ]\n",
    "\n",
    "cross_col_df_names = []\n",
    "for cols_list in cross_columns:\n",
    "    # encode as ints for the embedding\n",
    "    enc = LabelEncoder()\n",
    "    \n",
    "    # 1. create crossed labels by join operation\n",
    "    X_crossed_train = X_train[cols_list].apply(lambda x: '_'.join(x), axis=1)\n",
    "    X_crossed_test = X_test[cols_list].apply(lambda x: '_'.join(x), axis=1)\n",
    "    \n",
    "    # get a nice name for this new crossed column\n",
    "    cross_col_name = '_'.join(cols_list)\n",
    "    \n",
    "    # 2. encode as integers, stacking all possibilities\n",
    "    enc.fit(np.hstack((X_crossed_train.to_numpy(),  X_crossed_test.to_numpy())))\n",
    "    \n",
    "    # 3. Save into dataframe with new name\n",
    "    X_train[cross_col_name] = enc.transform(X_crossed_train)\n",
    "    X_test[cross_col_name] = enc.transform(X_crossed_test)\n",
    "    \n",
    "    # keep track of the new names of the crossed columns\n",
    "    cross_col_df_names.append(cross_col_name) \n",
    "    \n",
    "cross_col_df_names"
   ]
  },
  {
   "cell_type": "code",
   "execution_count": 23,
   "id": "177b787a",
   "metadata": {},
   "outputs": [],
   "source": [
    "X_train_cat = X_train[categorical_headers_ints].to_numpy() \n",
    "X_test_cat = X_test[categorical_headers_ints].to_numpy() "
   ]
  },
  {
   "cell_type": "code",
   "execution_count": 24,
   "id": "b9e03175",
   "metadata": {},
   "outputs": [],
   "source": [
    "X_train_num =  X_train[numeric_headers].to_numpy()\n",
    "X_test_num = X_test[numeric_headers].to_numpy()"
   ]
  },
  {
   "cell_type": "code",
   "execution_count": 26,
   "id": "e22e5cd1",
   "metadata": {},
   "outputs": [],
   "source": [
    "X_train_crossed = X_train[cross_col_df_names].to_numpy()\n",
    "X_test_crossed = X_test[cross_col_df_names].to_numpy()"
   ]
  },
  {
   "cell_type": "code",
   "execution_count": 34,
   "id": "354e3a9a",
   "metadata": {},
   "outputs": [],
   "source": [
    "crossed_outputs = []\n",
    "\n",
    "input_crossed = Input(shape=(X_train_crossed.shape[1],), dtype='int64', name='wide_inputs')\n",
    "for idx,col in enumerate(cross_col_df_names):\n",
    "    \n",
    "    N = max(X_train[col].max(),X_test[col].max())+1\n",
    "    \n",
    "    x = tf.gather(input_crossed, idx, axis=1)\n",
    "    \n",
    "    x = Embedding(input_dim=N, \n",
    "                  output_dim=int(np.sqrt(N)), \n",
    "                  input_length=1, name=col+'_embed')(x)\n",
    "\n",
    "    crossed_outputs.append(x)\n",
    "    \n",
    "wide_branch = concatenate(crossed_outputs, name='wide_concat')\n",
    "\n",
    "all_deep_branch_outputs = []\n",
    "\n",
    "input_cat = Input(shape=(X_train_cat.shape[1],), dtype='int64', name='categorical_input')\n",
    "for idx,col in enumerate(categorical_headers_ints):\n",
    "    \n",
    "    N = max(X_train[col].max(),X_test[col].max())+1\n",
    "    \n",
    "    x = tf.gather(input_cat, idx, axis=1)\n",
    "    \n",
    "    x = Embedding(input_dim=N, \n",
    "                  output_dim=int(np.sqrt(N)), \n",
    "                  input_length=1, name=col+'_embed')(x)\n",
    "    \n",
    "    all_deep_branch_outputs.append(x)\n",
    "\n",
    "input_num = Input(shape=(X_train_num.shape[1],), name='numeric')\n",
    "x_dense = Dense(units=22, activation='relu',name='num_1')(input_num)\n",
    "    \n",
    "all_deep_branch_outputs.append(x_dense)\n",
    "\n",
    "deep_branch = concatenate(all_deep_branch_outputs,name='concat_embeds')\n",
    "deep_branch = Dense(units=50,activation='relu', name='deep1')(deep_branch)\n",
    "deep_branch = Dense(units=25,activation='relu', name='deep2')(deep_branch)\n",
    "deep_branch = Dense(units=10,activation='relu', name='deep3')(deep_branch)\n",
    "\n",
    "final_branch = concatenate([wide_branch, deep_branch],\n",
    "                           name='concat_deep_wide')\n",
    "final_branch = Dense(units=1,activation='sigmoid',\n",
    "                     name='combined')(final_branch)\n",
    "\n",
    "model = Model(inputs=[input_crossed,input_cat,input_num], \n",
    "              outputs=final_branch)"
   ]
  },
  {
   "cell_type": "code",
   "execution_count": 36,
   "id": "399e0e2d",
   "metadata": {},
   "outputs": [
    {
     "name": "stdout",
     "output_type": "stream",
     "text": [
      "You must install pydot (`pip install pydot`) and install graphviz (see instructions at https://graphviz.gitlab.io/download/) for plot_model/model_to_dot to work.\n"
     ]
    }
   ],
   "source": [
    "from tensorflow.keras.utils import plot_model\n",
    "plot_model(\n",
    "    model, to_file='model.png', show_shapes=True, show_layer_names=True,\n",
    "    rankdir='LR', expand_nested=False, dpi=96\n",
    ")"
   ]
  },
  {
   "cell_type": "code",
   "execution_count": 37,
   "id": "bc49827b",
   "metadata": {},
   "outputs": [
    {
     "name": "stdout",
     "output_type": "stream",
     "text": [
      "Epoch 1/15\n",
      "1349/1349 [==============================] - 5s 3ms/step - loss: 0.2332 - accuracy: 0.7545 - val_loss: 0.2073 - val_accuracy: 0.9061\n",
      "Epoch 2/15\n",
      "1349/1349 [==============================] - 3s 2ms/step - loss: 0.1869 - accuracy: 0.9026 - val_loss: 0.1663 - val_accuracy: 0.9058\n",
      "Epoch 3/15\n",
      "1349/1349 [==============================] - 3s 2ms/step - loss: 0.1472 - accuracy: 0.9025 - val_loss: 0.1290 - val_accuracy: 0.9058\n",
      "Epoch 4/15\n",
      "1349/1349 [==============================] - 3s 2ms/step - loss: 0.1155 - accuracy: 0.9025 - val_loss: 0.1034 - val_accuracy: 0.9058\n",
      "Epoch 5/15\n",
      "1349/1349 [==============================] - 3s 2ms/step - loss: 0.0957 - accuracy: 0.9026 - val_loss: 0.0881 - val_accuracy: 0.9059\n",
      "Epoch 6/15\n",
      "1349/1349 [==============================] - 3s 3ms/step - loss: 0.0833 - accuracy: 0.9029 - val_loss: 0.0780 - val_accuracy: 0.9072\n",
      "Epoch 7/15\n",
      "1349/1349 [==============================] - 3s 2ms/step - loss: 0.0745 - accuracy: 0.9072 - val_loss: 0.0704 - val_accuracy: 0.9187\n",
      "Epoch 8/15\n",
      "1349/1349 [==============================] - 3s 2ms/step - loss: 0.0676 - accuracy: 0.9236 - val_loss: 0.0642 - val_accuracy: 0.9334\n",
      "Epoch 9/15\n",
      "1349/1349 [==============================] - 3s 2ms/step - loss: 0.0618 - accuracy: 0.9344 - val_loss: 0.0589 - val_accuracy: 0.9384\n",
      "Epoch 10/15\n",
      "1349/1349 [==============================] - 3s 2ms/step - loss: 0.0567 - accuracy: 0.9406 - val_loss: 0.0543 - val_accuracy: 0.9427\n",
      "Epoch 11/15\n",
      "1349/1349 [==============================] - 4s 3ms/step - loss: 0.0523 - accuracy: 0.9450 - val_loss: 0.0504 - val_accuracy: 0.9457\n",
      "Epoch 12/15\n",
      "1349/1349 [==============================] - 3s 2ms/step - loss: 0.0487 - accuracy: 0.9474 - val_loss: 0.0473 - val_accuracy: 0.9479\n",
      "Epoch 13/15\n",
      "1349/1349 [==============================] - 3s 2ms/step - loss: 0.0459 - accuracy: 0.9489 - val_loss: 0.0449 - val_accuracy: 0.9490\n",
      "Epoch 14/15\n",
      "1349/1349 [==============================] - 3s 3ms/step - loss: 0.0437 - accuracy: 0.9502 - val_loss: 0.0430 - val_accuracy: 0.9499\n",
      "Epoch 15/15\n",
      "1349/1349 [==============================] - 4s 3ms/step - loss: 0.0419 - accuracy: 0.9508 - val_loss: 0.0415 - val_accuracy: 0.9510\n",
      "CPU times: total: 4min 21s\n",
      "Wall time: 51 s\n"
     ]
    }
   ],
   "source": [
    "%%time\n",
    "\n",
    "model.compile(optimizer='adagrad',\n",
    "              loss='mean_squared_error',\n",
    "              metrics=['accuracy'])\n",
    "\n",
    "# lets also add the history variable to see how we are doing\n",
    "# and lets add a validation set to keep track of our progress\n",
    "history = model.fit([X_train_crossed,X_train_cat,X_train_num],\n",
    "                    y_train, \n",
    "                    epochs=15, \n",
    "                    batch_size=32, \n",
    "                    verbose=1, \n",
    "                    validation_data = ([X_test_crossed,X_test_cat,X_test_num],y_test))"
   ]
  },
  {
   "cell_type": "code",
   "execution_count": 38,
   "id": "0fbbfb2e",
   "metadata": {},
   "outputs": [
    {
     "name": "stdout",
     "output_type": "stream",
     "text": [
      "338/338 [==============================] - 1s 1ms/step\n",
      "[[ 659  357]\n",
      " [ 172 9601]]\n",
      "              precision    recall  f1-score   support\n",
      "\n",
      "           0       0.79      0.65      0.71      1016\n",
      "           1       0.96      0.98      0.97      9773\n",
      "\n",
      "    accuracy                           0.95     10789\n",
      "   macro avg       0.88      0.82      0.84     10789\n",
      "weighted avg       0.95      0.95      0.95     10789\n",
      "\n"
     ]
    }
   ],
   "source": [
    "yhat = np.round(model.predict([X_test_crossed,X_test_cat,X_test_num]))\n",
    "print(mt.confusion_matrix(y_test,yhat))\n",
    "print(mt.classification_report(y_test,yhat))"
   ]
  },
  {
   "cell_type": "code",
   "execution_count": 39,
   "id": "538caa2e",
   "metadata": {},
   "outputs": [
    {
     "data": {
      "text/plain": [
       "Text(0.5, 0, 'epochs')"
      ]
     },
     "execution_count": 39,
     "metadata": {},
     "output_type": "execute_result"
    },
    {
     "data": {
      "image/png": "[encoded data removed]",
      "text/plain": [
       "<Figure size 720x288 with 4 Axes>"
      ]
     },
     "metadata": {
      "needs_background": "light"
     },
     "output_type": "display_data"
    }
   ],
   "source": [
    "from matplotlib import pyplot as plt\n",
    "\n",
    "%matplotlib inline\n",
    "\n",
    "plt.figure(figsize=(10,4))\n",
    "plt.subplot(2,2,1)\n",
    "plt.plot(history.history['accuracy'])\n",
    "\n",
    "plt.ylabel('Accuracy %')\n",
    "plt.title('Training')\n",
    "plt.subplot(2,2,2)\n",
    "plt.plot(history.history['val_accuracy'])\n",
    "plt.title('Validation')\n",
    "\n",
    "plt.subplot(2,2,3)\n",
    "plt.plot(history.history['loss'])\n",
    "plt.ylabel('Training Loss')\n",
    "plt.xlabel('epochs')\n",
    "\n",
    "plt.subplot(2,2,4)\n",
    "plt.plot(history.history['val_loss'])\n",
    "plt.xlabel('epochs')"
   ]
  },
  {
   "cell_type": "markdown",
   "id": "d7cc3850",
   "metadata": {},
   "source": [
    "[2 points] Investigate generalization performance by altering the number of layers in the deep branch of the network. Try at least two different number of layers. Use the method of cross validation and evaluation metric that you argued for at the beginning of the lab to select the number of layers that performs superiorly. "
   ]
  },
  {
   "cell_type": "code",
   "execution_count": null,
   "id": "9e82e448",
   "metadata": {},
   "outputs": [],
   "source": []
  },
  {
   "cell_type": "markdown",
   "id": "62c6734c",
   "metadata": {},
   "source": [
    "[1 points] Compare the performance of your best wide and deep network to a standard multi-layer perceptron (MLP). Alternatively, you can compare to a network without the wide branch (i.e., just the deep network). For classification tasks, compare using the receiver operating characteristic and area under the curve. For regression tasks, use Bland-Altman plots and residual variance calculations.  Use proper statistical methods to compare the performance of different models."
   ]
  },
  {
   "cell_type": "code",
   "execution_count": null,
   "id": "2ccf6491",
   "metadata": {},
   "outputs": [],
   "source": []
  },
  {
   "cell_type": "markdown",
   "id": "b038c3ea",
   "metadata": {},
   "source": [
    "### Exceptional Work"
   ]
  },
  {
   "cell_type": "markdown",
   "id": "2142927f",
   "metadata": {},
   "source": [
    "One idea (required for 7000 level students): Capture the embedding weights from the deep network and (if needed) perform dimensionality reduction on the output of these embedding layers (only if needed). That is, pass the observations into the network, save the embedded weights (called embeddings), and then perform  dimensionality reduction in order to visualize results. Visualize and explain any clusters in the data."
   ]
  },
  {
   "cell_type": "code",
   "execution_count": null,
   "id": "31adc46a",
   "metadata": {},
   "outputs": [],
   "source": []
  }
 ],
 "metadata": {
  "kernelspec": {
   "display_name": "Python 3 (ipykernel)",
   "language": "python",
   "name": "python3"
  },
  "language_info": {
   "codemirror_mode": {
    "name": "ipython",
    "version": 3
   },
   "file_extension": ".py",
   "mimetype": "text/x-python",
   "name": "python",
   "nbconvert_exporter": "python",
   "pygments_lexer": "ipython3",
   "version": "3.9.12"
  }
 },
 "nbformat": 4,
 "nbformat_minor": 5
}

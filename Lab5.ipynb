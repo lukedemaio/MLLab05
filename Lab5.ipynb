{
 "cells": [
  {
   "cell_type": "markdown",
   "id": "5416fe5e",
   "metadata": {},
   "source": [
    "# Lab 5: Wide and Deep Networks For Predicting Diamond Prices"
   ]
  },
  {
   "cell_type": "markdown",
   "id": "9206c2b9",
   "metadata": {},
   "source": [
    "A machine learning engineer is in a long-term committed relationship and is planning to propose to their partner with diamond ring. All that they know is that their partner wants a round cut diamond and isn't specific on the cut quality, color, and clarity. The engineer wants to develop several wide and deep neural networks to predict whether a round cut diamond is over or under a budget of $10,000. The dataset provided has 11 numerical and categorical attributes. "
   ]
  },
  {
   "cell_type": "markdown",
   "id": "e2aa7c59",
   "metadata": {},
   "source": [
    "[1 points] Define and prepare your class variables. Use proper variable representations (int, float, one-hot, etc.). Use pre-processing methods (as needed) for dimensionality reduction, scaling, etc. Remove variables that are not needed/useful for the analysis. Describe the final dataset that is used for classification/regression (include a description of any newly formed variables you created). "
   ]
  },
  {
   "cell_type": "markdown",
   "id": "b67e9135",
   "metadata": {},
   "source": [
    "## Preparation"
   ]
  },
  {
   "cell_type": "markdown",
   "id": "d2029af3",
   "metadata": {},
   "source": [
    "In order to properly implement that data into a deep and wide neural network, we first must preprocess the data. All of the numerical, continuous data will be processed through a standard scalar while the categorical data will be label encoded and eventually one hot encoded. The feature that will be targeted is the price, which we will first split into two classes, under-budget and over-budget, using the quanization threshold of $10,000 followed by a label encoding and one hot encoding. We chose to separate our training and testing data using the train-test-split function from SciKitLearn because even though out target classes are imbalanced our dataset is so large that we don't need to split the whole dataset several times to help balance the classes. "
   ]
  },
  {
   "cell_type": "markdown",
   "id": "9e2d20ab",
   "metadata": {},
   "source": [
    "## Statistical Metric Selection"
   ]
  },
  {
   "cell_type": "markdown",
   "id": "b27e3097",
   "metadata": {},
   "source": [
    "The statistical metric that will give us the best picture of how each of these three wide and deep netowrks are peforming is the Mcnemar Test. The Mcnemar Test is the industry standard metric for evaluating performance between two classifiers. "
   ]
  },
  {
   "cell_type": "markdown",
   "id": "acadfccf",
   "metadata": {},
   "source": [
    "## Crossed Linear Classifier Selection"
   ]
  },
  {
   "cell_type": "markdown",
   "id": "d3c6422d",
   "metadata": {},
   "source": [
    "According to liscensed diamond broker, the most important categorical feature when purchasing or selling a diamond is the cut. Therefore, when we want to consider which features should be combined into cross products, it is important to have cut heavily weighted. Furthermore, you will need ensure that each crossed column has cut present or we risk our algorithm performing optimally. "
   ]
  },
  {
   "cell_type": "code",
   "execution_count": 1,
   "id": "fc5e3bb0",
   "metadata": {},
   "outputs": [
    {
     "name": "stdout",
     "output_type": "stream",
     "text": [
      "<class 'pandas.core.frame.DataFrame'>\n",
      "RangeIndex: 53943 entries, 0 to 53942\n",
      "Data columns (total 10 columns):\n",
      " #   Column   Non-Null Count  Dtype  \n",
      "---  ------   --------------  -----  \n",
      " 0   carat    53943 non-null  float64\n",
      " 1   cut      53943 non-null  object \n",
      " 2   color    53943 non-null  object \n",
      " 3   clarity  53943 non-null  object \n",
      " 4   depth    53943 non-null  float64\n",
      " 5   table    53943 non-null  float64\n",
      " 6   price    53943 non-null  int64  \n",
      " 7   x        53943 non-null  float64\n",
      " 8   y        53943 non-null  float64\n",
      " 9   z        53943 non-null  float64\n",
      "dtypes: float64(6), int64(1), object(3)\n",
      "memory usage: 4.1+ MB\n"
     ]
    }
   ],
   "source": [
    "import pandas as pd\n",
    "\n",
    "df = pd.read_csv('Diamond Prices2022.csv')\n",
    "df.drop(df.columns[df.columns.str.contains('unnamed',case = False)],axis = 1, inplace = True)\n",
    "df.info()"
   ]
  },
  {
   "cell_type": "code",
   "execution_count": 2,
   "id": "41fc71ec",
   "metadata": {},
   "outputs": [
    {
     "data": {
      "text/plain": [
       "count    43154.000000\n",
       "mean      3930.903508\n",
       "std       3994.291924\n",
       "min        326.000000\n",
       "25%        947.000000\n",
       "50%       2396.500000\n",
       "75%       5329.000000\n",
       "max      18823.000000\n",
       "Name: price, dtype: float64"
      ]
     },
     "execution_count": 2,
     "metadata": {},
     "output_type": "execute_result"
    }
   ],
   "source": [
    "import sklearn\n",
    "from sklearn.model_selection import train_test_split, StratifiedShuffleSplit\n",
    "\n",
    "df_target = df['price']\n",
    "df_data = df.drop(['price'], axis=1)\n",
    "\n",
    "X = df_data.copy()\n",
    "y = df_target.copy()\n",
    "\n",
    "X_train, X_test, y_train, y_test = sklearn.model_selection.train_test_split(X,y, test_size=0.2)\n",
    "y_train.describe()\n",
    "\n"
   ]
  },
  {
   "cell_type": "code",
   "execution_count": 3,
   "id": "0059e144",
   "metadata": {},
   "outputs": [
    {
     "data": {
      "text/plain": [
       "under-budget    38991\n",
       "over-budget      4163\n",
       "Name: price, dtype: int64"
      ]
     },
     "execution_count": 3,
     "metadata": {},
     "output_type": "execute_result"
    }
   ],
   "source": [
    "from sklearn.preprocessing import LabelEncoder\n",
    "from sklearn.preprocessing import StandardScaler\n",
    "\n",
    "y_train = pd.cut(y_train, [0,10000,1e6],labels = ['under-budget', 'over-budget'], precision=0)\n",
    "y_test = pd.cut(y_test, [0,10000,1e6],labels = ['under-budget', 'over-budget'], precision=0)\n",
    "\n",
    "y_train.value_counts()\n"
   ]
  },
  {
   "cell_type": "code",
   "execution_count": 4,
   "id": "66db4a2e",
   "metadata": {},
   "outputs": [
    {
     "data": {
      "image/png": "[encoded data removed]",
      "text/plain": [
       "<Figure size 432x288 with 1 Axes>"
      ]
     },
     "metadata": {
      "needs_background": "light"
     },
     "output_type": "display_data"
    }
   ],
   "source": [
    "import matplotlib.pyplot as plt\n",
    "count = y_train.value_counts()\n",
    "count.plot.bar()\n",
    "plt.title('Y_Train Breakdown')\n",
    "plt.ylabel('Number of Diamonds')\n",
    "plt.xlabel('Budget Class')\n",
    "plt.show()"
   ]
  },
  {
   "cell_type": "code",
   "execution_count": 5,
   "id": "d4a69c49",
   "metadata": {},
   "outputs": [
    {
     "data": {
      "image/png": "[encoded data removed]",
      "text/plain": [
       "<Figure size 432x288 with 1 Axes>"
      ]
     },
     "metadata": {
      "needs_background": "light"
     },
     "output_type": "display_data"
    }
   ],
   "source": [
    "y_test.value_counts()\n",
    "count = y_test.value_counts()\n",
    "count.plot.bar()\n",
    "plt.title('Y_Test Breakdown')\n",
    "plt.ylabel('Number of Diamonds')\n",
    "plt.xlabel('Budget Class')\n",
    "plt.show()"
   ]
  },
  {
   "cell_type": "code",
   "execution_count": 6,
   "id": "b10abda9",
   "metadata": {},
   "outputs": [],
   "source": [
    "numeric_headers = ['carat', 'depth', 'table', 'x', 'y', 'z']\n",
    "\n",
    "ss = StandardScaler()\n",
    "X_train[numeric_headers] = ss.fit_transform(X_train[numeric_headers].values)\n",
    "X_test[numeric_headers] = ss.transform(X_test[numeric_headers].values)"
   ]
  },
  {
   "cell_type": "code",
   "execution_count": 7,
   "id": "905a460e",
   "metadata": {},
   "outputs": [
    {
     "data": {
      "text/html": [
       "<div>\n",
       "<style scoped>\n",
       "    .dataframe tbody tr th:only-of-type {\n",
       "        vertical-align: middle;\n",
       "    }\n",
       "\n",
       "    .dataframe tbody tr th {\n",
       "        vertical-align: top;\n",
       "    }\n",
       "\n",
       "    .dataframe thead th {\n",
       "        text-align: right;\n",
       "    }\n",
       "</style>\n",
       "<table border=\"1\" class=\"dataframe\">\n",
       "  <thead>\n",
       "    <tr style=\"text-align: right;\">\n",
       "      <th></th>\n",
       "      <th>carat</th>\n",
       "      <th>cut</th>\n",
       "      <th>color</th>\n",
       "      <th>clarity</th>\n",
       "      <th>depth</th>\n",
       "      <th>table</th>\n",
       "      <th>x</th>\n",
       "      <th>y</th>\n",
       "      <th>z</th>\n",
       "    </tr>\n",
       "  </thead>\n",
       "  <tbody>\n",
       "    <tr>\n",
       "      <th>43655</th>\n",
       "      <td>-0.374248</td>\n",
       "      <td>Fair</td>\n",
       "      <td>E</td>\n",
       "      <td>SI2</td>\n",
       "      <td>-2.486421</td>\n",
       "      <td>1.142697</td>\n",
       "      <td>-0.026386</td>\n",
       "      <td>-0.194288</td>\n",
       "      <td>-0.391598</td>\n",
       "    </tr>\n",
       "    <tr>\n",
       "      <th>21140</th>\n",
       "      <td>1.501979</td>\n",
       "      <td>Ideal</td>\n",
       "      <td>I</td>\n",
       "      <td>VS2</td>\n",
       "      <td>0.384010</td>\n",
       "      <td>-0.199902</td>\n",
       "      <td>1.380810</td>\n",
       "      <td>1.423050</td>\n",
       "      <td>1.441194</td>\n",
       "    </tr>\n",
       "    <tr>\n",
       "      <th>41518</th>\n",
       "      <td>-0.521817</td>\n",
       "      <td>Very Good</td>\n",
       "      <td>I</td>\n",
       "      <td>VS2</td>\n",
       "      <td>-2.276390</td>\n",
       "      <td>2.127269</td>\n",
       "      <td>-0.302481</td>\n",
       "      <td>-0.289937</td>\n",
       "      <td>-0.532582</td>\n",
       "    </tr>\n",
       "    <tr>\n",
       "      <th>25950</th>\n",
       "      <td>3.272800</td>\n",
       "      <td>Very Good</td>\n",
       "      <td>I</td>\n",
       "      <td>SI2</td>\n",
       "      <td>-2.276390</td>\n",
       "      <td>-0.199902</td>\n",
       "      <td>2.663318</td>\n",
       "      <td>2.640401</td>\n",
       "      <td>2.230704</td>\n",
       "    </tr>\n",
       "    <tr>\n",
       "      <th>32424</th>\n",
       "      <td>-1.006684</td>\n",
       "      <td>Very Good</td>\n",
       "      <td>E</td>\n",
       "      <td>VS1</td>\n",
       "      <td>-0.456116</td>\n",
       "      <td>1.053190</td>\n",
       "      <td>-1.157487</td>\n",
       "      <td>-1.115997</td>\n",
       "      <td>-1.167010</td>\n",
       "    </tr>\n",
       "  </tbody>\n",
       "</table>\n",
       "</div>"
      ],
      "text/plain": [
       "          carat        cut color clarity     depth     table         x  \\\n",
       "43655 -0.374248       Fair     E     SI2 -2.486421  1.142697 -0.026386   \n",
       "21140  1.501979      Ideal     I     VS2  0.384010 -0.199902  1.380810   \n",
       "41518 -0.521817  Very Good     I     VS2 -2.276390  2.127269 -0.302481   \n",
       "25950  3.272800  Very Good     I     SI2 -2.276390 -0.199902  2.663318   \n",
       "32424 -1.006684  Very Good     E     VS1 -0.456116  1.053190 -1.157487   \n",
       "\n",
       "              y         z  \n",
       "43655 -0.194288 -0.391598  \n",
       "21140  1.423050  1.441194  \n",
       "41518 -0.289937 -0.532582  \n",
       "25950  2.640401  2.230704  \n",
       "32424 -1.115997 -1.167010  "
      ]
     },
     "execution_count": 7,
     "metadata": {},
     "output_type": "execute_result"
    }
   ],
   "source": [
    "X_train.head()"
   ]
  },
  {
   "cell_type": "code",
   "execution_count": 8,
   "id": "e8c6aab9",
   "metadata": {},
   "outputs": [],
   "source": [
    "categorical_headers = ['cut', 'color', 'clarity']\n",
    "\n",
    "for col in categorical_headers:\n",
    "    X_train[col] = X_train[col].str.strip()\n",
    "    X_test[col] = X_test[col].str.strip()\n",
    "    lb = LabelEncoder()\n",
    "    X_train[col+'_int'] = lb.fit_transform(X_train[col])\n",
    "    X_test[col+'_int'] = lb.transform(X_test[col])"
   ]
  },
  {
   "cell_type": "code",
   "execution_count": 9,
   "id": "0e748db4",
   "metadata": {
    "scrolled": true
   },
   "outputs": [
    {
     "data": {
      "text/html": [
       "<div>\n",
       "<style scoped>\n",
       "    .dataframe tbody tr th:only-of-type {\n",
       "        vertical-align: middle;\n",
       "    }\n",
       "\n",
       "    .dataframe tbody tr th {\n",
       "        vertical-align: top;\n",
       "    }\n",
       "\n",
       "    .dataframe thead th {\n",
       "        text-align: right;\n",
       "    }\n",
       "</style>\n",
       "<table border=\"1\" class=\"dataframe\">\n",
       "  <thead>\n",
       "    <tr style=\"text-align: right;\">\n",
       "      <th></th>\n",
       "      <th>carat</th>\n",
       "      <th>cut</th>\n",
       "      <th>color</th>\n",
       "      <th>clarity</th>\n",
       "      <th>depth</th>\n",
       "      <th>table</th>\n",
       "      <th>x</th>\n",
       "      <th>y</th>\n",
       "      <th>z</th>\n",
       "      <th>cut_int</th>\n",
       "      <th>color_int</th>\n",
       "      <th>clarity_int</th>\n",
       "    </tr>\n",
       "  </thead>\n",
       "  <tbody>\n",
       "    <tr>\n",
       "      <th>43655</th>\n",
       "      <td>-0.374248</td>\n",
       "      <td>Fair</td>\n",
       "      <td>E</td>\n",
       "      <td>SI2</td>\n",
       "      <td>-2.486421</td>\n",
       "      <td>1.142697</td>\n",
       "      <td>-0.026386</td>\n",
       "      <td>-0.194288</td>\n",
       "      <td>-0.391598</td>\n",
       "      <td>0</td>\n",
       "      <td>1</td>\n",
       "      <td>3</td>\n",
       "    </tr>\n",
       "    <tr>\n",
       "      <th>21140</th>\n",
       "      <td>1.501979</td>\n",
       "      <td>Ideal</td>\n",
       "      <td>I</td>\n",
       "      <td>VS2</td>\n",
       "      <td>0.384010</td>\n",
       "      <td>-0.199902</td>\n",
       "      <td>1.380810</td>\n",
       "      <td>1.423050</td>\n",
       "      <td>1.441194</td>\n",
       "      <td>2</td>\n",
       "      <td>5</td>\n",
       "      <td>5</td>\n",
       "    </tr>\n",
       "    <tr>\n",
       "      <th>41518</th>\n",
       "      <td>-0.521817</td>\n",
       "      <td>Very Good</td>\n",
       "      <td>I</td>\n",
       "      <td>VS2</td>\n",
       "      <td>-2.276390</td>\n",
       "      <td>2.127269</td>\n",
       "      <td>-0.302481</td>\n",
       "      <td>-0.289937</td>\n",
       "      <td>-0.532582</td>\n",
       "      <td>4</td>\n",
       "      <td>5</td>\n",
       "      <td>5</td>\n",
       "    </tr>\n",
       "    <tr>\n",
       "      <th>25950</th>\n",
       "      <td>3.272800</td>\n",
       "      <td>Very Good</td>\n",
       "      <td>I</td>\n",
       "      <td>SI2</td>\n",
       "      <td>-2.276390</td>\n",
       "      <td>-0.199902</td>\n",
       "      <td>2.663318</td>\n",
       "      <td>2.640401</td>\n",
       "      <td>2.230704</td>\n",
       "      <td>4</td>\n",
       "      <td>5</td>\n",
       "      <td>3</td>\n",
       "    </tr>\n",
       "    <tr>\n",
       "      <th>32424</th>\n",
       "      <td>-1.006684</td>\n",
       "      <td>Very Good</td>\n",
       "      <td>E</td>\n",
       "      <td>VS1</td>\n",
       "      <td>-0.456116</td>\n",
       "      <td>1.053190</td>\n",
       "      <td>-1.157487</td>\n",
       "      <td>-1.115997</td>\n",
       "      <td>-1.167010</td>\n",
       "      <td>4</td>\n",
       "      <td>1</td>\n",
       "      <td>4</td>\n",
       "    </tr>\n",
       "  </tbody>\n",
       "</table>\n",
       "</div>"
      ],
      "text/plain": [
       "          carat        cut color clarity     depth     table         x  \\\n",
       "43655 -0.374248       Fair     E     SI2 -2.486421  1.142697 -0.026386   \n",
       "21140  1.501979      Ideal     I     VS2  0.384010 -0.199902  1.380810   \n",
       "41518 -0.521817  Very Good     I     VS2 -2.276390  2.127269 -0.302481   \n",
       "25950  3.272800  Very Good     I     SI2 -2.276390 -0.199902  2.663318   \n",
       "32424 -1.006684  Very Good     E     VS1 -0.456116  1.053190 -1.157487   \n",
       "\n",
       "              y         z  cut_int  color_int  clarity_int  \n",
       "43655 -0.194288 -0.391598        0          1            3  \n",
       "21140  1.423050  1.441194        2          5            5  \n",
       "41518 -0.289937 -0.532582        4          5            5  \n",
       "25950  2.640401  2.230704        4          5            3  \n",
       "32424 -1.115997 -1.167010        4          1            4  "
      ]
     },
     "execution_count": 9,
     "metadata": {},
     "output_type": "execute_result"
    }
   ],
   "source": [
    "X_train.head()"
   ]
  },
  {
   "cell_type": "code",
   "execution_count": 10,
   "id": "2d743375",
   "metadata": {},
   "outputs": [],
   "source": [
    "categorical_headers_ints = [x +'_int' for x in categorical_headers]"
   ]
  },
  {
   "cell_type": "code",
   "execution_count": 11,
   "id": "eae06bb1",
   "metadata": {},
   "outputs": [],
   "source": [
    "tmp = LabelEncoder()\n",
    "y_train = tmp.fit_transform(y_train)\n",
    "y_test = tmp.transform(y_test)"
   ]
  },
  {
   "cell_type": "code",
   "execution_count": 13,
   "id": "bb9c5c61",
   "metadata": {
    "scrolled": false
   },
   "outputs": [
    {
     "data": {
      "text/plain": [
       "(0.9715809669992326, 0.9840946685328922)"
      ]
     },
     "execution_count": 13,
     "metadata": {},
     "output_type": "execute_result"
    },
    {
     "data": {
      "image/png": "[encoded data removed]",
      "text/plain": [
       "<Figure size 432x288 with 1 Axes>"
      ]
     },
     "metadata": {
      "needs_background": "light"
     },
     "output_type": "display_data"
    }
   ],
   "source": [
    "from sklearn.model_selection import cross_val_score\n",
    "from sklearn.model_selection import KFold, ShuffleSplit\n",
    "from sklearn.model_selection import StratifiedKFold, StratifiedShuffleSplit\n",
    "\n",
    "from sklearn.metrics import make_scorer, accuracy_score\n",
    "from sklearn.metrics import precision_score, recall_score, f1_score\n",
    "\n",
    "from sklearn.linear_model import LogisticRegression\n",
    "\n",
    "# these imports above might help you\n",
    "\n",
    "#=====Write your code below here=================\n",
    "# select model\n",
    "clf = LogisticRegression()\n",
    "#select cross validation\n",
    "# I changed the cross validation technique to StratifiedKFold\n",
    "cv = ShuffleSplit(n_splits=5)\n",
    "# select evaluation criteria\n",
    "#here I changed the scoring measure to f1_score to account for both recall and precision\n",
    "my_scorer = make_scorer(f1_score)\n",
    "# run model training and cross validation\n",
    "per_fold_eval_criteria = cross_val_score(estimator=clf,\n",
    "                                    X=X_train[categorical_headers_ints+numeric_headers],\n",
    "                                    y=y_train,\n",
    "                                    cv=cv,\n",
    "                                    scoring=my_scorer,\n",
    "                                   )\n",
    "\n",
    "plt.bar(range(len(per_fold_eval_criteria)),per_fold_eval_criteria)\n",
    "plt.ylim([min(per_fold_eval_criteria)-0.01,max(per_fold_eval_criteria)])"
   ]
  },
  {
   "cell_type": "markdown",
   "id": "1b93b393",
   "metadata": {},
   "source": [
    "[1 points] Identify groups of features in your data that should be combined into cross-product features. Provide justification for why these features should be crossed (or why some features should not be crossed). "
   ]
  },
  {
   "cell_type": "markdown",
   "id": "b27fbca2",
   "metadata": {},
   "source": [
    "[1 points] Choose and explain what metric(s) you will use to evaluate your algorithm’s performance. You should give a detailed argument for why this (these) metric(s) are appropriate on your data. That is, why is the metric appropriate for the task (e.g., in terms of the business case for the task). Please note: rarely is accuracy the best evaluation metric to use. Think deeply about an appropriate measure of performance."
   ]
  },
  {
   "cell_type": "markdown",
   "id": "26df6513",
   "metadata": {},
   "source": [
    "[1 points] Choose the method you will use for dividing your data into training and testing (i.e., are you using Stratified 10-fold cross validation? Shuffle splits? Why?). Explain why your chosen method is appropriate or use more than one method as appropriate. Argue why your cross validation method is a realistic mirroring of how an algorithm would be used in practice. "
   ]
  },
  {
   "cell_type": "markdown",
   "id": "ad5418d4",
   "metadata": {},
   "source": [
    "## Wide and Deep Network Modeling"
   ]
  },
  {
   "cell_type": "markdown",
   "id": "4ebdfe79",
   "metadata": {},
   "source": [
    "[2 points] Create at least three combined wide and deep networks to classify your data using Keras. Visualize the performance of the network on the training data and validation data in the same plot versus the training iterations. Note: use the \"history\" return parameter that is part of Keras \"fit\" function to easily access this data."
   ]
  },
  {
   "cell_type": "code",
   "execution_count": 14,
   "id": "069b5ab4",
   "metadata": {},
   "outputs": [
    {
     "name": "stdout",
     "output_type": "stream",
     "text": [
      "2.9.1\n",
      "2.9.0\n"
     ]
    }
   ],
   "source": [
    "from sklearn import metrics as mt\n",
    "import tensorflow as tf\n",
    "from tensorflow import keras \n",
    "\n",
    "print(tf.__version__)\n",
    "print(keras.__version__)"
   ]
  },
  {
   "cell_type": "code",
   "execution_count": 15,
   "id": "ed79a753",
   "metadata": {},
   "outputs": [],
   "source": [
    "from tensorflow.keras.layers import Dense, Activation, Input, Embedding, concatenate\n",
    "from tensorflow.keras.models import Model"
   ]
  },
  {
   "cell_type": "code",
   "execution_count": 16,
   "id": "9167e21e",
   "metadata": {},
   "outputs": [
    {
     "name": "stdout",
     "output_type": "stream",
     "text": [
      "cut has 5 unique values:\n",
      "['Fair' 'Ideal' 'Very Good' 'Good' 'Premium']\n",
      "color has 7 unique values:\n",
      "['E' 'I' 'G' 'D' 'J' 'H' 'F']\n",
      "clarity has 8 unique values:\n",
      "['SI2' 'VS2' 'VS1' 'IF' 'SI1' 'VVS1' 'VVS2' 'I1']\n"
     ]
    }
   ],
   "source": [
    "for col in categorical_headers:\n",
    "    vals = X_train[col].unique()\n",
    "    print(col,'has', len(vals), 'unique values:')\n",
    "    print(vals)"
   ]
  },
  {
   "cell_type": "code",
   "execution_count": 18,
   "id": "37771bce",
   "metadata": {},
   "outputs": [],
   "source": [
    "import numpy as np\n",
    "cols_list = ['cut','color','clarity']\n",
    "\n",
    "# 1. create crossed labels by string join operation\n",
    "X_crossed_train = X_train[cols_list].apply(lambda x: '_'.join(x), axis=1)\n",
    "X_crossed_test = X_test[cols_list].apply(lambda x: '_'.join(x), axis=1)\n",
    "\n",
    "# combine together for training\n",
    "all_vals = np.hstack((X_crossed_train.to_numpy(),  X_crossed_test.to_numpy()))\n",
    "#print(np.unique(all_vals))\n",
    "    \n",
    "# 2. encode as integers, stacking all possibilities\n",
    "enc = LabelEncoder()\n",
    "enc.fit(all_vals)\n",
    "\n",
    "encoded_vals_train = enc.transform(X_crossed_train)\n",
    "encoded_vals_test  = enc.transform(X_crossed_test)\n",
    "\n",
    "#print(np.min(encoded_vals_train), np.max(encoded_vals_train))"
   ]
  },
  {
   "cell_type": "markdown",
   "id": "69665265",
   "metadata": {},
   "source": [
    "## Wide and Deep Model 1"
   ]
  },
  {
   "cell_type": "code",
   "execution_count": 23,
   "id": "dea76819",
   "metadata": {},
   "outputs": [
    {
     "data": {
      "text/plain": [
       "['cut_color', 'cut_clarity', 'cut_color_clarity']"
      ]
     },
     "execution_count": 23,
     "metadata": {},
     "output_type": "execute_result"
    }
   ],
   "source": [
    "cross_columns = [\n",
    "                 ['cut', 'color'],\n",
    "                 ['cut','clarity'],\n",
    "                 #['color','clarity'],\n",
    "                 ['cut','color','clarity'],\n",
    "                ]\n",
    "\n",
    "cross_col_df_names = []\n",
    "for cols_list in cross_columns:\n",
    "    # encode as ints for the embedding\n",
    "    enc = LabelEncoder()\n",
    "    \n",
    "    # 1. create crossed labels by join operation\n",
    "    X_crossed_train = X_train[cols_list].apply(lambda x: '_'.join(x), axis=1)\n",
    "    X_crossed_test = X_test[cols_list].apply(lambda x: '_'.join(x), axis=1)\n",
    "    \n",
    "    # get a nice name for this new crossed column\n",
    "    cross_col_name = '_'.join(cols_list)\n",
    "    \n",
    "    # 2. encode as integers, stacking all possibilities\n",
    "    enc.fit(np.hstack((X_crossed_train.to_numpy(),  X_crossed_test.to_numpy())))\n",
    "    \n",
    "    # 3. Save into dataframe with new name\n",
    "    X_train[cross_col_name] = enc.transform(X_crossed_train)\n",
    "    X_test[cross_col_name] = enc.transform(X_crossed_test)\n",
    "    \n",
    "    # keep track of the new names of the crossed columns\n",
    "    cross_col_df_names.append(cross_col_name) \n",
    "    \n",
    "cross_col_df_names"
   ]
  },
  {
   "cell_type": "code",
   "execution_count": 24,
   "id": "70ab966a",
   "metadata": {},
   "outputs": [],
   "source": [
    "X_train_cat = X_train[categorical_headers_ints].to_numpy() \n",
    "X_test_cat = X_test[categorical_headers_ints].to_numpy() "
   ]
  },
  {
   "cell_type": "code",
   "execution_count": 25,
   "id": "377eee6f",
   "metadata": {},
   "outputs": [],
   "source": [
    "X_train_num =  X_train[numeric_headers].to_numpy()\n",
    "X_test_num = X_test[numeric_headers].to_numpy()"
   ]
  },
  {
   "cell_type": "code",
   "execution_count": 26,
   "id": "e9b6b25c",
   "metadata": {},
   "outputs": [],
   "source": [
    "X_train_crossed = X_train[cross_col_df_names].to_numpy()\n",
    "X_test_crossed = X_test[cross_col_df_names].to_numpy()"
   ]
  },
  {
   "cell_type": "code",
   "execution_count": 45,
   "id": "b511e922",
   "metadata": {},
   "outputs": [],
   "source": [
    "crossed_outputs = []\n",
    "\n",
    "input_crossed = Input(shape=(X_train_crossed.shape[1],), dtype='int64', name='wide_inputs')\n",
    "for idx,col in enumerate(cross_col_df_names):\n",
    "    \n",
    "    N = max(X_train[col].max(),X_test[col].max())+1\n",
    "    \n",
    "    x = tf.gather(input_crossed, idx, axis=1)\n",
    "    \n",
    "    x = Embedding(input_dim=N, \n",
    "                  output_dim=int(np.sqrt(N)), \n",
    "                  input_length=1, name=col+'_embed')(x)\n",
    "\n",
    "    crossed_outputs.append(x)\n",
    "    \n",
    "wide_branch = concatenate(crossed_outputs, name='wide_concat')\n",
    "\n",
    "all_deep_branch_outputs = []\n",
    "\n",
    "input_cat = Input(shape=(X_train_cat.shape[1],), dtype='int64', name='categorical_input')\n",
    "for idx,col in enumerate(categorical_headers_ints):\n",
    "    \n",
    "    N = max(X_train[col].max(),X_test[col].max())+1\n",
    "    \n",
    "    x = tf.gather(input_cat, idx, axis=1)\n",
    "    \n",
    "    x = Embedding(input_dim=N, \n",
    "                  output_dim=int(np.sqrt(N)), \n",
    "                  input_length=1, name=col+'_embed')(x)\n",
    "    \n",
    "    all_deep_branch_outputs.append(x)\n",
    "\n",
    "input_num = Input(shape=(X_train_num.shape[1],), name='numerical_input')\n",
    "x_dense = Dense(units=20, activation='relu',name='num_1')(input_num)\n",
    "    \n",
    "all_deep_branch_outputs.append(x_dense)\n",
    "\n",
    "deep_branch = concatenate(all_deep_branch_outputs,name='concat_embeds')\n",
    "deep_branch = Dense(units=40,activation='relu', name='deep1')(deep_branch)\n",
    "deep_branch = Dense(units=20,activation='relu', name='deep2')(deep_branch)\n",
    "deep_branch = Dense(units=10,activation='relu', name='deep3')(deep_branch)\n",
    "\n",
    "final_branch = concatenate([wide_branch, deep_branch],\n",
    "                           name='concat_deep_wide')\n",
    "final_branch = Dense(units=1,activation='sigmoid',\n",
    "                     name='combined')(final_branch)\n",
    "\n",
    "model = Model(inputs=[input_crossed,input_cat,input_num], \n",
    "              outputs=final_branch)"
   ]
  },
  {
   "cell_type": "code",
   "execution_count": 46,
   "id": "d414889b",
   "metadata": {},
   "outputs": [
    {
     "data": {
      "image/png": "[encoded data removed]",
      "text/plain": [
       "<IPython.core.display.Image object>"
      ]
     },
     "execution_count": 46,
     "metadata": {},
     "output_type": "execute_result"
    }
   ],
   "source": [
    "from tensorflow.keras.utils import plot_model\n",
    "plot_model(\n",
    "    model, to_file='model.png', show_shapes=True, show_layer_names=True,\n",
    "    rankdir='LR', expand_nested=False, dpi=96\n",
    ")"
   ]
  },
  {
   "cell_type": "code",
   "execution_count": 47,
   "id": "4c4538f1",
   "metadata": {},
   "outputs": [],
   "source": [
    "import keras.backend as K\n",
    "def get_f1(y_true, y_pred): #taken from old keras source code\n",
    "    true_positives = K.sum(K.round(K.clip(y_true * y_pred, 0, 1)))\n",
    "    possible_positives = K.sum(K.round(K.clip(y_true, 0, 1)))\n",
    "    predicted_positives = K.sum(K.round(K.clip(y_pred, 0, 1)))\n",
    "    precision = true_positives / (predicted_positives + K.epsilon())\n",
    "    recall = true_positives / (possible_positives + K.epsilon())\n",
    "    f1_val = 2*(precision*recall)/(precision+recall+K.epsilon())\n",
    "    return f1_val"
   ]
  },
  {
   "cell_type": "code",
   "execution_count": 48,
   "id": "8bd1070d",
   "metadata": {},
   "outputs": [
    {
     "name": "stdout",
     "output_type": "stream",
     "text": [
      "Epoch 1/15\n",
      "1349/1349 [==============================] - 13s 8ms/step - loss: 0.0848 - Accuracy: 0.9034 - val_loss: 0.0582 - val_Accuracy: 0.9018\n",
      "Epoch 2/15\n",
      "1349/1349 [==============================] - 10s 7ms/step - loss: 0.0521 - Accuracy: 0.9036 - val_loss: 0.0480 - val_Accuracy: 0.9029\n",
      "Epoch 3/15\n",
      "1349/1349 [==============================] - 9s 7ms/step - loss: 0.0434 - Accuracy: 0.9370 - val_loss: 0.0397 - val_Accuracy: 0.9526\n",
      "Epoch 4/15\n",
      "1349/1349 [==============================] - 10s 7ms/step - loss: 0.0360 - Accuracy: 0.9536 - val_loss: 0.0343 - val_Accuracy: 0.9547\n",
      "Epoch 5/15\n",
      "1349/1349 [==============================] - 10s 7ms/step - loss: 0.0328 - Accuracy: 0.9550 - val_loss: 0.0328 - val_Accuracy: 0.9552\n",
      "Epoch 6/15\n",
      "1349/1349 [==============================] - 10s 7ms/step - loss: 0.0316 - Accuracy: 0.9560 - val_loss: 0.0318 - val_Accuracy: 0.9562\n",
      "Epoch 7/15\n",
      "1349/1349 [==============================] - 10s 7ms/step - loss: 0.0308 - Accuracy: 0.9570 - val_loss: 0.0314 - val_Accuracy: 0.9565\n",
      "Epoch 8/15\n",
      "1349/1349 [==============================] - 10s 7ms/step - loss: 0.0300 - Accuracy: 0.9585 - val_loss: 0.0304 - val_Accuracy: 0.9575\n",
      "Epoch 9/15\n",
      "1349/1349 [==============================] - 10s 7ms/step - loss: 0.0291 - Accuracy: 0.9605 - val_loss: 0.0297 - val_Accuracy: 0.9587\n",
      "Epoch 10/15\n",
      "1349/1349 [==============================] - 9s 7ms/step - loss: 0.0282 - Accuracy: 0.9618 - val_loss: 0.0288 - val_Accuracy: 0.9613\n",
      "Epoch 11/15\n",
      "1349/1349 [==============================] - 10s 7ms/step - loss: 0.0272 - Accuracy: 0.9633 - val_loss: 0.0283 - val_Accuracy: 0.9624\n",
      "Epoch 12/15\n",
      "1349/1349 [==============================] - 5s 4ms/step - loss: 0.0262 - Accuracy: 0.9642 - val_loss: 0.0272 - val_Accuracy: 0.9640\n",
      "Epoch 13/15\n",
      "1349/1349 [==============================] - 7s 5ms/step - loss: 0.0252 - Accuracy: 0.9658 - val_loss: 0.0260 - val_Accuracy: 0.9651\n",
      "Epoch 14/15\n",
      "1349/1349 [==============================] - 5s 4ms/step - loss: 0.0241 - Accuracy: 0.9677 - val_loss: 0.0247 - val_Accuracy: 0.9670\n",
      "Epoch 15/15\n",
      "1349/1349 [==============================] - 5s 4ms/step - loss: 0.0227 - Accuracy: 0.9703 - val_loss: 0.0232 - val_Accuracy: 0.9699\n",
      "CPU times: total: 9min 33s\n",
      "Wall time: 2min 13s\n"
     ]
    }
   ],
   "source": [
    "%%time\n",
    "\n",
    "model.compile(optimizer='SGD',\n",
    "              loss='mean_squared_error',\n",
    "              metrics='Accuracy')\n",
    "\n",
    "# lets also add the history variable to see how we are doing\n",
    "# and lets add a validation set to keep track of our progress\n",
    "history = model.fit([X_train_crossed,X_train_cat,X_train_num],\n",
    "                    y_train, \n",
    "                    epochs=15, \n",
    "                    batch_size=32, \n",
    "                    verbose=1, \n",
    "                    validation_data = ([X_test_crossed,X_test_cat,X_test_num],y_test))"
   ]
  },
  {
   "cell_type": "code",
   "execution_count": 49,
   "id": "19af0441",
   "metadata": {},
   "outputs": [
    {
     "name": "stdout",
     "output_type": "stream",
     "text": [
      "Epoch 1/15\n",
      "1349/1349 [==============================] - 6s 4ms/step - loss: 0.0212 - Accuracy: 0.9733 - val_loss: 0.0217 - val_Accuracy: 0.9720\n",
      "Epoch 2/15\n",
      "1349/1349 [==============================] - 4s 3ms/step - loss: 0.0195 - Accuracy: 0.9756 - val_loss: 0.0199 - val_Accuracy: 0.9741\n",
      "Epoch 3/15\n",
      "1349/1349 [==============================] - 5s 3ms/step - loss: 0.0181 - Accuracy: 0.9781 - val_loss: 0.0184 - val_Accuracy: 0.9774\n",
      "Epoch 4/15\n",
      "1349/1349 [==============================] - 6s 4ms/step - loss: 0.0169 - Accuracy: 0.9795 - val_loss: 0.0172 - val_Accuracy: 0.9791\n",
      "Epoch 5/15\n",
      "1349/1349 [==============================] - 5s 3ms/step - loss: 0.0160 - Accuracy: 0.9803 - val_loss: 0.0166 - val_Accuracy: 0.9793\n",
      "Epoch 6/15\n",
      "1349/1349 [==============================] - 4s 3ms/step - loss: 0.0153 - Accuracy: 0.9811 - val_loss: 0.0156 - val_Accuracy: 0.9816\n",
      "Epoch 7/15\n",
      "1349/1349 [==============================] - 5s 4ms/step - loss: 0.0148 - Accuracy: 0.9815 - val_loss: 0.0155 - val_Accuracy: 0.9801\n",
      "Epoch 8/15\n",
      "1349/1349 [==============================] - 5s 3ms/step - loss: 0.0144 - Accuracy: 0.9815 - val_loss: 0.0146 - val_Accuracy: 0.9826\n",
      "Epoch 9/15\n",
      "1349/1349 [==============================] - 4s 3ms/step - loss: 0.0140 - Accuracy: 0.9815 - val_loss: 0.0160 - val_Accuracy: 0.9777\n",
      "Epoch 10/15\n",
      "1349/1349 [==============================] - 5s 4ms/step - loss: 0.0138 - Accuracy: 0.9819 - val_loss: 0.0140 - val_Accuracy: 0.9834\n",
      "Epoch 11/15\n",
      "1349/1349 [==============================] - 5s 4ms/step - loss: 0.0135 - Accuracy: 0.9825 - val_loss: 0.0138 - val_Accuracy: 0.9837\n",
      "Epoch 12/15\n",
      "1349/1349 [==============================] - 5s 3ms/step - loss: 0.0133 - Accuracy: 0.9822 - val_loss: 0.0136 - val_Accuracy: 0.9839\n",
      "Epoch 13/15\n",
      "1349/1349 [==============================] - 5s 4ms/step - loss: 0.0131 - Accuracy: 0.9827 - val_loss: 0.0135 - val_Accuracy: 0.9838\n",
      "Epoch 14/15\n",
      "1349/1349 [==============================] - 6s 4ms/step - loss: 0.0129 - Accuracy: 0.9826 - val_loss: 0.0139 - val_Accuracy: 0.9810\n",
      "Epoch 15/15\n",
      "1349/1349 [==============================] - 5s 3ms/step - loss: 0.0128 - Accuracy: 0.9828 - val_loss: 0.0134 - val_Accuracy: 0.9824\n",
      "CPU times: total: 6min 3s\n",
      "Wall time: 1min 15s\n"
     ]
    }
   ],
   "source": [
    "%%time\n",
    "\n",
    "model.compile(optimizer='SGD',\n",
    "              loss='mean_squared_error',\n",
    "              metrics='Accuracy')\n",
    "\n",
    "# lets also add the history variable to see how we are doing\n",
    "# and lets add a validation set to keep track of our progress\n",
    "history = model.fit([X_train_crossed,X_train_cat,X_train_num],\n",
    "                    y_train, \n",
    "                    epochs=15, \n",
    "                    batch_size=32, \n",
    "                    verbose=1, \n",
    "                    validation_data = ([X_test_crossed,X_test_cat,X_test_num],y_test))"
   ]
  },
  {
   "cell_type": "code",
   "execution_count": 50,
   "id": "58539663",
   "metadata": {},
   "outputs": [
    {
     "name": "stdout",
     "output_type": "stream",
     "text": [
      "338/338 [==============================] - 1s 1ms/step\n",
      "[[ 944  115]\n",
      " [  75 9655]]\n",
      "              precision    recall  f1-score   support\n",
      "\n",
      "           0       0.93      0.89      0.91      1059\n",
      "           1       0.99      0.99      0.99      9730\n",
      "\n",
      "    accuracy                           0.98     10789\n",
      "   macro avg       0.96      0.94      0.95     10789\n",
      "weighted avg       0.98      0.98      0.98     10789\n",
      "\n"
     ]
    }
   ],
   "source": [
    "yhat = np.round(model.predict([X_test_crossed,X_test_cat,X_test_num]))\n",
    "print(mt.confusion_matrix(y_test,yhat))\n",
    "print(mt.classification_report(y_test,yhat))"
   ]
  },
  {
   "cell_type": "code",
   "execution_count": 51,
   "id": "993cd016",
   "metadata": {},
   "outputs": [
    {
     "data": {
      "text/plain": [
       "Text(0.5, 0, 'epochs')"
      ]
     },
     "execution_count": 51,
     "metadata": {},
     "output_type": "execute_result"
    },
    {
     "data": {
      "image/png": "[encoded data removed]",
      "text/plain": [
       "<Figure size 720x288 with 4 Axes>"
      ]
     },
     "metadata": {
      "needs_background": "light"
     },
     "output_type": "display_data"
    }
   ],
   "source": [
    "from matplotlib import pyplot as plt\n",
    "\n",
    "%matplotlib inline\n",
    "\n",
    "plt.figure(figsize=(10,4))\n",
    "plt.subplot(2,2,1)\n",
    "plt.plot(history.history['Accuracy'])\n",
    "\n",
    "plt.ylabel('Accuracy %')\n",
    "plt.title('Training')\n",
    "plt.subplot(2,2,2)\n",
    "plt.plot(history.history['val_Accuracy'])\n",
    "plt.title('Validation')\n",
    "\n",
    "plt.subplot(2,2,3)\n",
    "plt.plot(history.history['loss'])\n",
    "plt.ylabel('Training Loss')\n",
    "plt.xlabel('epochs')\n",
    "\n",
    "plt.subplot(2,2,4)\n",
    "plt.plot(history.history['val_loss'])\n",
    "plt.xlabel('epochs')"
   ]
  },
  {
   "cell_type": "markdown",
   "id": "d7cc3850",
   "metadata": {},
   "source": [
    "[2 points] Investigate generalization performance by altering the number of layers in the deep branch of the network. Try at least two different number of layers. Use the method of cross validation and evaluation metric that you argued for at the beginning of the lab to select the number of layers that performs superiorly. "
   ]
  },
  {
   "cell_type": "code",
   "execution_count": null,
   "id": "9e82e448",
   "metadata": {},
   "outputs": [],
   "source": []
  },
  {
   "cell_type": "markdown",
   "id": "62c6734c",
   "metadata": {},
   "source": [
    "[1 points] Compare the performance of your best wide and deep network to a standard multi-layer perceptron (MLP). Alternatively, you can compare to a network without the wide branch (i.e., just the deep network). For classification tasks, compare using the receiver operating characteristic and area under the curve. For regression tasks, use Bland-Altman plots and residual variance calculations.  Use proper statistical methods to compare the performance of different models."
   ]
  },
  {
   "cell_type": "code",
   "execution_count": null,
   "id": "2ccf6491",
   "metadata": {},
   "outputs": [],
   "source": [
    "from scipy.special import expit\n",
    "import sys \n",
    "class TwoLayerPerceptron(object):\n",
    "    def __init__(self, n_hidden=1,\n",
    "                 C=0.0, epochs=500, eta=0.1, random_state=None, shuffle=True, \n",
    "                 minibatches=1):\n",
    "        np.random.seed(random_state)\n",
    "        self.n_hidden = n_hidden\n",
    "        self.l2_C = C\n",
    "        self.epochs = epochs\n",
    "        self.eta = eta\n",
    "        self.shuffle = shuffle\n",
    "        self.minibatches = minibatches\n",
    "\n",
    "    @staticmethod\n",
    "    def _encode_labels(y):\n",
    "        onehot = pd.get_dummies(y).values.T\n",
    "            \n",
    "        return onehot\n",
    "        \n",
    "    def _initialize_weights(self):\n",
    "        init_bound = 4*np.sqrt(6. / (self.n_hidden + self.n_features_ + 1))\n",
    "        W1 = np.random.uniform(-init_bound, init_bound,(self.n_hidden, self.n_features_ + 1))\n",
    "        W1[:,:1] = 0\n",
    "\n",
    "        init_bound = 4*np.sqrt(6 / (self.n_output_ + self.n_hidden + 1))\n",
    "        W2 = np.random.uniform(-init_bound, init_bound,(self.n_output_, self.n_hidden + 1)) \n",
    "        W2[:,:1] = 0\n",
    "        \n",
    "        return W1, W2\n",
    "    \n",
    "    @staticmethod\n",
    "    def _sigmoid(z):\n",
    "        return expit(z)\n",
    "    \n",
    "    @staticmethod\n",
    "    def _add_bias_unit(X, how='column'):\n",
    "        if how == 'column':\n",
    "            ones = np.ones((X.shape[0], 1))\n",
    "            X_new = np.hstack((ones, X))\n",
    "        elif how == 'row':\n",
    "            ones = np.ones((1, X.shape[1]))\n",
    "            X_new = np.vstack((ones, X))\n",
    "        return X_new\n",
    "    \n",
    "    @staticmethod\n",
    "    def _L2_reg(lambda_, W1, W2):\n",
    "        return (lambda_/2.0) * np.sqrt(np.mean(W1[:, 1:] ** 2) + np.mean(W2[:, 1:] ** 2))\n",
    "    \n",
    "    def _cost(self,A3,Y_enc,W1,W2):\n",
    "        cost = -np.mean(np.nan_to_num((Y_enc*np.log(A3)+(1-Y_enc)*np.log(1-A3))))\n",
    "        L2_term = self._L2_reg(self.l2_C, W1, W2)\n",
    "        return cost + L2_term\n",
    "    \n",
    "    def _feedforward(self, X, W1, W2):\n",
    "        A1 = self._add_bias_unit(X, how='column')\n",
    "        A1 = A1.T\n",
    "        Z1 = W1 @ A1\n",
    "        A2 = self._sigmoid(Z1)\n",
    "        A2 = self._add_bias_unit(A2, how='row')\n",
    "        Z2 = W2 @ A2\n",
    "        A3 = self._sigmoid(Z2)\n",
    "        return A1, Z1, A2, Z2, A3\n",
    "    \n",
    "    def _get_gradient(self, A1, A2, A3, Z1, Z2, Y_enc, W1, W2):\n",
    "        V2 = (A3-Y_enc)\n",
    "        V1 = A2*(1-A2)*(W2.T @ V2)\n",
    "        \n",
    "        grad2 = V2 @ A2.T\n",
    "        grad1 = V1[1:,:] @ A1.T\n",
    "\n",
    "        grad1[:, 1:] += W1[:, 1:] * self.l2_C\n",
    "        grad2[:, 1:] += W2[:, 1:] * self.l2_C\n",
    "\n",
    "        return grad1, grad2\n",
    "\n",
    "    def fit(self, X, y, print_progress=False, XY_test=None):\n",
    "        X_data, y_data = X.copy(), y.copy()\n",
    "        Y_enc = self._encode_labels(y)\n",
    "        \n",
    "        # init weights and setup matrices\n",
    "        self.n_features_ = X_data.shape[1]\n",
    "        self.n_output_ = Y_enc.shape[0]\n",
    "        self.W1, self.W2 = self._initialize_weights()\n",
    "        \n",
    "        self.grad_W1_ = np.zeros(self.epochs)\n",
    "        self.grad_W2_ = np.zeros(self.epochs)\n",
    "\n",
    "        self.cost_ = []\n",
    "        self.score_ = []\n",
    "        self.score_.append(accuracy_score(y_data,self.predict(X_data)))\n",
    "        if XY_test is not None:\n",
    "            X_test = XY_test[0].copy()\n",
    "            y_test = XY_test[1].copy()\n",
    "            self.val_score_ = []\n",
    "            self.val_score_.append(accuracy_score(y_test,self.predict(X_test)))\n",
    "            \n",
    "        for i in range(self.epochs):\n",
    "\n",
    "            if print_progress>0 and (i+1)%print_progress==0:\n",
    "                sys.stderr.write('\\rEpoch: %d/%d' % (i+1, self.epochs))\n",
    "                sys.stderr.flush()\n",
    "\n",
    "            if self.shuffle:\n",
    "                idx_shuffle = np.random.permutation(y_data.shape[0])\n",
    "                X_data, Y_enc, y_data = X_data[idx_shuffle], Y_enc[:, idx_shuffle], y_data[idx_shuffle]\n",
    "\n",
    "            mini = np.array_split(range(y_data.shape[0]), self.minibatches)\n",
    "            mini_cost = []\n",
    "            for idx in mini:\n",
    "\n",
    "                # feedforward of all instances\n",
    "                A1, Z1, A2, Z2, A3 = self._feedforward(X_data[idx],\n",
    "                                                       self.W1,\n",
    "                                                       self.W2)\n",
    "                \n",
    "                # append cost of mini-batch only\n",
    "                cost = self._cost(A3,Y_enc[:, idx],self.W1,self.W2)\n",
    "                mini_cost.append(cost)\n",
    "\n",
    "                # compute gradient via back propagation\n",
    "                grad1, grad2 = self._get_gradient(A1=A1, A2=A2, A3=A3, Z1=Z1, Z2=Z2, \n",
    "                                                  Y_enc=Y_enc[:, idx],\n",
    "                                                  W1=self.W1,W2=self.W2)\n",
    "                \n",
    "                #average magnitude of gradient each layers\n",
    "                self.grad_W1_[i] = np.average(np.sqrt(np.sum(np.square(grad1))))\n",
    "                self.grad_W2_[i] = np.average(np.sqrt(np.sum(np.square(grad2))))\n",
    "\n",
    "\n",
    "                #Update each matrix to minimize objective\n",
    "                self.W1 -= self.eta * grad1\n",
    "                self.W2 -= self.eta * grad2\n",
    "\n",
    "            self.cost_.append(mini_cost)\n",
    "            self.score_.append(accuracy_score(y_data,self.predict(X_data)))\n",
    "            if XY_test is not None:\n",
    "                self.val_score_.append(accuracy_score(y_test,self.predict(X_test)))\n",
    "            \n",
    "        return self\n",
    "    \n",
    "    def predict(self, X):\n",
    "        _, _, _, _, A3 = self._feedforward(X, self.W1, self.W2)\n",
    "        y_pred = np.argmax(A3, axis=0)\n",
    "        return y_pred"
   ]
  },
  {
   "cell_type": "code",
   "execution_count": null,
   "id": "87a45823",
   "metadata": {},
   "outputs": [],
   "source": [
    "params = { 'n_hidden':22, \n",
    "         'C':0.01, 'epochs':15, 'eta':0.01,'minibatches':35,\n",
    "         'shuffle':True,'random_state':1}"
   ]
  },
  {
   "cell_type": "code",
   "execution_count": null,
   "id": "53217714",
   "metadata": {},
   "outputs": [],
   "source": [
    "%%time\n",
    "nn_2 = TwoLayerPerceptron(**params)\n",
    "\n",
    "nn_2.fit(np.concatenate(X_train_crossed,X_train_cat,X_train_num), y_train, print_progress=1)\n",
    "yhat = nn_2.predict(np.concatenate(X_test_crossed,X_test_cat,X_test_num))\n",
    "print('Accuracy:',accuracy_score(y_test,yhat))"
   ]
  },
  {
   "cell_type": "markdown",
   "id": "b038c3ea",
   "metadata": {},
   "source": [
    "### Exceptional Work"
   ]
  },
  {
   "cell_type": "markdown",
   "id": "2142927f",
   "metadata": {},
   "source": [
    "One idea (required for 7000 level students): Capture the embedding weights from the deep network and (if needed) perform dimensionality reduction on the output of these embedding layers (only if needed). That is, pass the observations into the network, save the embedded weights (called embeddings), and then perform  dimensionality reduction in order to visualize results. Visualize and explain any clusters in the data."
   ]
  },
  {
   "cell_type": "code",
   "execution_count": null,
   "id": "31adc46a",
   "metadata": {},
   "outputs": [],
   "source": []
  }
 ],
 "metadata": {
  "kernelspec": {
   "display_name": "Python 3 (ipykernel)",
   "language": "python",
   "name": "python3"
  },
  "language_info": {
   "codemirror_mode": {
    "name": "ipython",
    "version": 3
   },
   "file_extension": ".py",
   "mimetype": "text/x-python",
   "name": "python",
   "nbconvert_exporter": "python",
   "pygments_lexer": "ipython3",
   "version": "3.9.12"
  }
 },
 "nbformat": 4,
 "nbformat_minor": 5
}
